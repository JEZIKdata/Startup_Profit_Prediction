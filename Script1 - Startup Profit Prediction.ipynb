{
 "cells": [
  {
   "cell_type": "markdown",
   "id": "e2a874cb",
   "metadata": {},
   "source": [
    "<img src=https://a-static.projektn.sk/2020/11/Startup.jpg>"
   ]
  },
  {
   "cell_type": "markdown",
   "id": "15685268",
   "metadata": {},
   "source": [
    "# Startup Profit Prediction"
   ]
  },
  {
   "cell_type": "markdown",
   "id": "communist-professional",
   "metadata": {
    "papermill": {
     "duration": 0.049943,
     "end_time": "2021-05-19T13:22:15.010340",
     "exception": false,
     "start_time": "2021-05-19T13:22:14.960397",
     "status": "completed"
    },
    "tags": []
   },
   "source": [
    "# 1. Reading and Understanding the Data"
   ]
  },
  {
   "cell_type": "code",
   "execution_count": 243,
   "id": "chemical-briefs",
   "metadata": {
    "execution": {
     "iopub.execute_input": "2021-05-19T13:22:15.115718Z",
     "iopub.status.busy": "2021-05-19T13:22:15.115035Z",
     "iopub.status.idle": "2021-05-19T13:22:15.118191Z",
     "shell.execute_reply": "2021-05-19T13:22:15.118676Z"
    },
    "papermill": {
     "duration": 0.057656,
     "end_time": "2021-05-19T13:22:15.118856",
     "exception": false,
     "start_time": "2021-05-19T13:22:15.061200",
     "status": "completed"
    },
    "tags": []
   },
   "outputs": [],
   "source": [
    "#basic libraries and visualization\n",
    "import pandas as pd\n",
    "import numpy as np\n",
    "import matplotlib.pyplot as plt\n",
    "import seaborn as sns\n",
    "#statmodels\n",
    "import statsmodels.api as sm\n",
    "from statsmodels.stats.outliers_influence import variance_inflation_factor\n",
    "#sklearn-dataprocessing\n",
    "from sklearn.model_selection import train_test_split, cross_val_score, GridSearchCV\n",
    "from sklearn.feature_selection import f_regression\n",
    "from sklearn.compose import ColumnTransformer\n",
    "from sklearn.preprocessing import PolynomialFeatures, StandardScaler, OneHotEncoder\n",
    "from sklearn.metrics import r2_score, mean_squared_error\n",
    "#sklearn-models\n",
    "from sklearn.linear_model import LinearRegression, Ridge\n",
    "from sklearn.svm import SVR\n",
    "from sklearn.tree import DecisionTreeRegressor\n",
    "from sklearn.ensemble import RandomForestRegressor"
   ]
  },
  {
   "cell_type": "code",
   "execution_count": 244,
   "id": "d718ac41",
   "metadata": {},
   "outputs": [],
   "source": [
    "import warnings\n",
    "warnings.filterwarnings('ignore')"
   ]
  },
  {
   "cell_type": "code",
   "execution_count": 245,
   "id": "19c3ea23",
   "metadata": {},
   "outputs": [],
   "source": [
    "sns.set_theme(style='darkgrid', palette='Accent')\n",
    "pd.options.display.float_format = '{:,.2f}'.format"
   ]
  },
  {
   "cell_type": "markdown",
   "id": "0161e4c8",
   "metadata": {},
   "source": [
    "**About the dataset:**\n",
    "\n",
    "This dataset has data collected from New York, California and Florida about 50 business Startups. \n",
    "The variables used in the dataset are Profit, R&D spending(research and development), Administration Spending, and Marketing Spending.\n"
   ]
  },
  {
   "cell_type": "code",
   "execution_count": 246,
   "id": "overhead-constant",
   "metadata": {
    "execution": {
     "iopub.execute_input": "2021-05-19T13:22:15.227477Z",
     "iopub.status.busy": "2021-05-19T13:22:15.226807Z",
     "iopub.status.idle": "2021-05-19T13:22:15.281218Z",
     "shell.execute_reply": "2021-05-19T13:22:15.281766Z"
    },
    "papermill": {
     "duration": 0.113739,
     "end_time": "2021-05-19T13:22:15.281941",
     "exception": false,
     "start_time": "2021-05-19T13:22:15.168202",
     "status": "completed"
    },
    "tags": []
   },
   "outputs": [
    {
     "data": {
      "text/html": [
       "<div>\n",
       "<style scoped>\n",
       "    .dataframe tbody tr th:only-of-type {\n",
       "        vertical-align: middle;\n",
       "    }\n",
       "\n",
       "    .dataframe tbody tr th {\n",
       "        vertical-align: top;\n",
       "    }\n",
       "\n",
       "    .dataframe thead th {\n",
       "        text-align: right;\n",
       "    }\n",
       "</style>\n",
       "<table border=\"1\" class=\"dataframe\">\n",
       "  <thead>\n",
       "    <tr style=\"text-align: right;\">\n",
       "      <th></th>\n",
       "      <th>R&amp;D Spend</th>\n",
       "      <th>Administration</th>\n",
       "      <th>Marketing Spend</th>\n",
       "      <th>State</th>\n",
       "      <th>Profit</th>\n",
       "    </tr>\n",
       "  </thead>\n",
       "  <tbody>\n",
       "    <tr>\n",
       "      <th>0</th>\n",
       "      <td>165,349.20</td>\n",
       "      <td>136,897.80</td>\n",
       "      <td>471,784.10</td>\n",
       "      <td>New York</td>\n",
       "      <td>192,261.83</td>\n",
       "    </tr>\n",
       "    <tr>\n",
       "      <th>1</th>\n",
       "      <td>162,597.70</td>\n",
       "      <td>151,377.59</td>\n",
       "      <td>443,898.53</td>\n",
       "      <td>California</td>\n",
       "      <td>191,792.06</td>\n",
       "    </tr>\n",
       "    <tr>\n",
       "      <th>2</th>\n",
       "      <td>153,441.51</td>\n",
       "      <td>101,145.55</td>\n",
       "      <td>407,934.54</td>\n",
       "      <td>Florida</td>\n",
       "      <td>191,050.39</td>\n",
       "    </tr>\n",
       "    <tr>\n",
       "      <th>3</th>\n",
       "      <td>144,372.41</td>\n",
       "      <td>118,671.85</td>\n",
       "      <td>383,199.62</td>\n",
       "      <td>New York</td>\n",
       "      <td>182,901.99</td>\n",
       "    </tr>\n",
       "    <tr>\n",
       "      <th>4</th>\n",
       "      <td>142,107.34</td>\n",
       "      <td>91,391.77</td>\n",
       "      <td>366,168.42</td>\n",
       "      <td>Florida</td>\n",
       "      <td>166,187.94</td>\n",
       "    </tr>\n",
       "  </tbody>\n",
       "</table>\n",
       "</div>"
      ],
      "text/plain": [
       "   R&D Spend  Administration  Marketing Spend       State     Profit\n",
       "0 165,349.20      136,897.80       471,784.10    New York 192,261.83\n",
       "1 162,597.70      151,377.59       443,898.53  California 191,792.06\n",
       "2 153,441.51      101,145.55       407,934.54     Florida 191,050.39\n",
       "3 144,372.41      118,671.85       383,199.62    New York 182,901.99\n",
       "4 142,107.34       91,391.77       366,168.42     Florida 166,187.94"
      ]
     },
     "execution_count": 246,
     "metadata": {},
     "output_type": "execute_result"
    }
   ],
   "source": [
    "startups = pd.read_csv(\"Data - 50_Startups_regression.csv\")\n",
    "startups.head()"
   ]
  },
  {
   "cell_type": "code",
   "execution_count": 247,
   "id": "contrary-executive",
   "metadata": {
    "execution": {
     "iopub.execute_input": "2021-05-19T13:22:15.385769Z",
     "iopub.status.busy": "2021-05-19T13:22:15.385106Z",
     "iopub.status.idle": "2021-05-19T13:22:15.390882Z",
     "shell.execute_reply": "2021-05-19T13:22:15.391344Z"
    },
    "papermill": {
     "duration": 0.058907,
     "end_time": "2021-05-19T13:22:15.391534",
     "exception": false,
     "start_time": "2021-05-19T13:22:15.332627",
     "status": "completed"
    },
    "tags": []
   },
   "outputs": [
    {
     "data": {
      "text/plain": [
       "(50, 5)"
      ]
     },
     "execution_count": 247,
     "metadata": {},
     "output_type": "execute_result"
    }
   ],
   "source": [
    "startups.shape"
   ]
  },
  {
   "cell_type": "code",
   "execution_count": 248,
   "id": "tracked-script",
   "metadata": {
    "execution": {
     "iopub.execute_input": "2021-05-19T13:22:15.513262Z",
     "iopub.status.busy": "2021-05-19T13:22:15.512526Z",
     "iopub.status.idle": "2021-05-19T13:22:15.515912Z",
     "shell.execute_reply": "2021-05-19T13:22:15.516493Z"
    },
    "papermill": {
     "duration": 0.074774,
     "end_time": "2021-05-19T13:22:15.516679",
     "exception": false,
     "start_time": "2021-05-19T13:22:15.441905",
     "status": "completed"
    },
    "tags": []
   },
   "outputs": [
    {
     "name": "stdout",
     "output_type": "stream",
     "text": [
      "<class 'pandas.core.frame.DataFrame'>\n",
      "RangeIndex: 50 entries, 0 to 49\n",
      "Data columns (total 5 columns):\n",
      " #   Column           Non-Null Count  Dtype  \n",
      "---  ------           --------------  -----  \n",
      " 0   R&D Spend        50 non-null     float64\n",
      " 1   Administration   50 non-null     float64\n",
      " 2   Marketing Spend  50 non-null     float64\n",
      " 3   State            50 non-null     object \n",
      " 4   Profit           50 non-null     float64\n",
      "dtypes: float64(4), object(1)\n",
      "memory usage: 2.1+ KB\n"
     ]
    }
   ],
   "source": [
    "startups.info()"
   ]
  },
  {
   "cell_type": "code",
   "execution_count": 249,
   "id": "5c67a8ee",
   "metadata": {},
   "outputs": [
    {
     "data": {
      "text/plain": [
       "R&D Spend          0\n",
       "Administration     0\n",
       "Marketing Spend    0\n",
       "State              0\n",
       "Profit             0\n",
       "dtype: int64"
      ]
     },
     "execution_count": 249,
     "metadata": {},
     "output_type": "execute_result"
    }
   ],
   "source": [
    "startups.isnull().sum()"
   ]
  },
  {
   "cell_type": "code",
   "execution_count": 250,
   "id": "da232aaf",
   "metadata": {},
   "outputs": [
    {
     "data": {
      "text/plain": [
       "False"
      ]
     },
     "execution_count": 250,
     "metadata": {},
     "output_type": "execute_result"
    }
   ],
   "source": [
    "startups.duplicated().any()"
   ]
  },
  {
   "cell_type": "code",
   "execution_count": 251,
   "id": "imperial-contest",
   "metadata": {
    "execution": {
     "iopub.execute_input": "2021-05-19T13:22:15.626493Z",
     "iopub.status.busy": "2021-05-19T13:22:15.625867Z",
     "iopub.status.idle": "2021-05-19T13:22:15.653274Z",
     "shell.execute_reply": "2021-05-19T13:22:15.653805Z"
    },
    "papermill": {
     "duration": 0.08281,
     "end_time": "2021-05-19T13:22:15.654005",
     "exception": false,
     "start_time": "2021-05-19T13:22:15.571195",
     "status": "completed"
    },
    "tags": []
   },
   "outputs": [
    {
     "data": {
      "text/html": [
       "<div>\n",
       "<style scoped>\n",
       "    .dataframe tbody tr th:only-of-type {\n",
       "        vertical-align: middle;\n",
       "    }\n",
       "\n",
       "    .dataframe tbody tr th {\n",
       "        vertical-align: top;\n",
       "    }\n",
       "\n",
       "    .dataframe thead th {\n",
       "        text-align: right;\n",
       "    }\n",
       "</style>\n",
       "<table border=\"1\" class=\"dataframe\">\n",
       "  <thead>\n",
       "    <tr style=\"text-align: right;\">\n",
       "      <th></th>\n",
       "      <th>R&amp;D Spend</th>\n",
       "      <th>Administration</th>\n",
       "      <th>Marketing Spend</th>\n",
       "      <th>Profit</th>\n",
       "    </tr>\n",
       "  </thead>\n",
       "  <tbody>\n",
       "    <tr>\n",
       "      <th>count</th>\n",
       "      <td>50.00</td>\n",
       "      <td>50.00</td>\n",
       "      <td>50.00</td>\n",
       "      <td>50.00</td>\n",
       "    </tr>\n",
       "    <tr>\n",
       "      <th>mean</th>\n",
       "      <td>73,721.62</td>\n",
       "      <td>121,344.64</td>\n",
       "      <td>211,025.10</td>\n",
       "      <td>112,012.64</td>\n",
       "    </tr>\n",
       "    <tr>\n",
       "      <th>std</th>\n",
       "      <td>45,902.26</td>\n",
       "      <td>28,017.80</td>\n",
       "      <td>122,290.31</td>\n",
       "      <td>40,306.18</td>\n",
       "    </tr>\n",
       "    <tr>\n",
       "      <th>min</th>\n",
       "      <td>0.00</td>\n",
       "      <td>51,283.14</td>\n",
       "      <td>0.00</td>\n",
       "      <td>14,681.40</td>\n",
       "    </tr>\n",
       "    <tr>\n",
       "      <th>25%</th>\n",
       "      <td>39,936.37</td>\n",
       "      <td>103,730.88</td>\n",
       "      <td>129,300.13</td>\n",
       "      <td>90,138.90</td>\n",
       "    </tr>\n",
       "    <tr>\n",
       "      <th>50%</th>\n",
       "      <td>73,051.08</td>\n",
       "      <td>122,699.79</td>\n",
       "      <td>212,716.24</td>\n",
       "      <td>107,978.19</td>\n",
       "    </tr>\n",
       "    <tr>\n",
       "      <th>75%</th>\n",
       "      <td>101,602.80</td>\n",
       "      <td>144,842.18</td>\n",
       "      <td>299,469.08</td>\n",
       "      <td>139,765.98</td>\n",
       "    </tr>\n",
       "    <tr>\n",
       "      <th>max</th>\n",
       "      <td>165,349.20</td>\n",
       "      <td>182,645.56</td>\n",
       "      <td>471,784.10</td>\n",
       "      <td>192,261.83</td>\n",
       "    </tr>\n",
       "  </tbody>\n",
       "</table>\n",
       "</div>"
      ],
      "text/plain": [
       "       R&D Spend  Administration  Marketing Spend     Profit\n",
       "count      50.00           50.00            50.00      50.00\n",
       "mean   73,721.62      121,344.64       211,025.10 112,012.64\n",
       "std    45,902.26       28,017.80       122,290.31  40,306.18\n",
       "min         0.00       51,283.14             0.00  14,681.40\n",
       "25%    39,936.37      103,730.88       129,300.13  90,138.90\n",
       "50%    73,051.08      122,699.79       212,716.24 107,978.19\n",
       "75%   101,602.80      144,842.18       299,469.08 139,765.98\n",
       "max   165,349.20      182,645.56       471,784.10 192,261.83"
      ]
     },
     "execution_count": 251,
     "metadata": {},
     "output_type": "execute_result"
    }
   ],
   "source": [
    "startups.describe()"
   ]
  },
  {
   "cell_type": "markdown",
   "id": "induced-lancaster",
   "metadata": {
    "papermill": {
     "duration": 0.052125,
     "end_time": "2021-05-19T13:22:15.918119",
     "exception": false,
     "start_time": "2021-05-19T13:22:15.865994",
     "status": "completed"
    },
    "tags": []
   },
   "source": [
    "# 2. EDA"
   ]
  },
  {
   "cell_type": "markdown",
   "id": "4f616f0b",
   "metadata": {},
   "source": [
    "## Checking for outliers"
   ]
  },
  {
   "cell_type": "code",
   "execution_count": 252,
   "id": "ab99b390",
   "metadata": {},
   "outputs": [
    {
     "data": {
      "text/plain": [
       "array(['R&D Spend', 'Administration', 'Marketing Spend', 'State',\n",
       "       'Profit'], dtype=object)"
      ]
     },
     "execution_count": 252,
     "metadata": {},
     "output_type": "execute_result"
    }
   ],
   "source": [
    "startups.columns.values"
   ]
  },
  {
   "cell_type": "code",
   "execution_count": 253,
   "id": "arranged-harassment",
   "metadata": {
    "execution": {
     "iopub.execute_input": "2021-05-19T13:22:17.050600Z",
     "iopub.status.busy": "2021-05-19T13:22:17.049595Z",
     "iopub.status.idle": "2021-05-19T13:22:17.208612Z",
     "shell.execute_reply": "2021-05-19T13:22:17.207979Z"
    },
    "papermill": {
     "duration": 0.214956,
     "end_time": "2021-05-19T13:22:17.208859",
     "exception": false,
     "start_time": "2021-05-19T13:22:16.993903",
     "status": "completed"
    },
    "tags": []
   },
   "outputs": [
    {
     "data": {
      "text/plain": [
       "<AxesSubplot:>"
      ]
     },
     "execution_count": 253,
     "metadata": {},
     "output_type": "execute_result"
    },
    {
     "data": {
      "image/png": "[encoded data removed]",
      "text/plain": [
       "<Figure size 432x288 with 1 Axes>"
      ]
     },
     "metadata": {},
     "output_type": "display_data"
    }
   ],
   "source": [
    "sns.boxplot(data=startups)"
   ]
  },
  {
   "cell_type": "code",
   "execution_count": 254,
   "id": "satellite-campus",
   "metadata": {
    "execution": {
     "iopub.execute_input": "2021-05-19T13:22:18.174138Z",
     "iopub.status.busy": "2021-05-19T13:22:18.173499Z",
     "iopub.status.idle": "2021-05-19T13:22:18.179929Z",
     "shell.execute_reply": "2021-05-19T13:22:18.180490Z"
    },
    "papermill": {
     "duration": 0.072355,
     "end_time": "2021-05-19T13:22:18.180674",
     "exception": false,
     "start_time": "2021-05-19T13:22:18.108319",
     "status": "completed"
    },
    "tags": []
   },
   "outputs": [],
   "source": [
    "# We can see that in the Profit column we have an outlier. Since we have a small dataset, this could be a problem\n",
    "# in predicting the profit, hence, we are going to remove this outlier.\n",
    "Q3, Q1 = np.percentile(startups[\"Profit\"], [75 ,25])\n",
    "IQR = Q3 - Q1\n",
    "startups = startups[~(startups.Profit< (Q1 - 1.5*IQR))]"
   ]
  },
  {
   "cell_type": "markdown",
   "id": "emotional-nightmare",
   "metadata": {
    "papermill": {
     "duration": 0.058426,
     "end_time": "2021-05-19T13:22:18.972108",
     "exception": false,
     "start_time": "2021-05-19T13:22:18.913682",
     "status": "completed"
    },
    "tags": []
   },
   "source": [
    "## Visualising Numerical Variables"
   ]
  },
  {
   "cell_type": "code",
   "execution_count": 255,
   "id": "dated-literature",
   "metadata": {
    "execution": {
     "iopub.execute_input": "2021-05-19T13:22:19.157364Z",
     "iopub.status.busy": "2021-05-19T13:22:19.139020Z",
     "iopub.status.idle": "2021-05-19T13:22:27.948072Z",
     "shell.execute_reply": "2021-05-19T13:22:27.948728Z"
    },
    "papermill": {
     "duration": 8.916752,
     "end_time": "2021-05-19T13:22:27.948902",
     "exception": false,
     "start_time": "2021-05-19T13:22:19.032150",
     "status": "completed"
    },
    "scrolled": true,
    "tags": []
   },
   "outputs": [
    {
     "data": {
      "image/png": "[encoded data removed]",
      "text/plain": [
       "<Figure size 720x720 with 20 Axes>"
      ]
     },
     "metadata": {},
     "output_type": "display_data"
    }
   ],
   "source": [
    "sns.pairplot(startups[['R&D Spend', 'Administration', 'Marketing Spend', 'Profit']], kind=\"reg\", diag_kind=\"kde\")\n",
    "plt.show()"
   ]
  },
  {
   "cell_type": "markdown",
   "id": "5bd2dc84",
   "metadata": {},
   "source": [
    "**Insights:**\n",
    "\n",
    "1. We can see normal distributions of numerical variables. \n",
    "\n",
    "2. R&D Spend and Marketing Spend are in linear relation with target variable."
   ]
  },
  {
   "cell_type": "markdown",
   "id": "77ac4be3",
   "metadata": {},
   "source": [
    "### Profit Distribution"
   ]
  },
  {
   "cell_type": "code",
   "execution_count": 256,
   "id": "0d140e3c",
   "metadata": {},
   "outputs": [
    {
     "data": {
      "image/png": "[encoded data removed]",
      "text/plain": [
       "<Figure size 432x288 with 1 Axes>"
      ]
     },
     "metadata": {},
     "output_type": "display_data"
    }
   ],
   "source": [
    "sns.distplot(startups[\"Profit\"], bins=30)\n",
    "plt.show()"
   ]
  },
  {
   "cell_type": "markdown",
   "id": "29a09ac8",
   "metadata": {},
   "source": [
    "### R&D Spend vs. Profit Correlation"
   ]
  },
  {
   "cell_type": "code",
   "execution_count": 257,
   "id": "cf09a5f7",
   "metadata": {},
   "outputs": [
    {
     "data": {
      "image/png": "[encoded data removed]",
      "text/plain": [
       "<Figure size 432x432 with 3 Axes>"
      ]
     },
     "metadata": {},
     "output_type": "display_data"
    }
   ],
   "source": [
    "sns.jointplot(x=startups[\"Profit\"], y=startups[\"R&D Spend\"], kind=\"reg\")\n",
    "plt.show()"
   ]
  },
  {
   "cell_type": "markdown",
   "id": "parallel-captain",
   "metadata": {
    "papermill": {
     "duration": 0.064122,
     "end_time": "2021-05-19T13:22:28.206361",
     "exception": false,
     "start_time": "2021-05-19T13:22:28.142239",
     "status": "completed"
    },
    "tags": []
   },
   "source": [
    "## Visualising Categorical Variables"
   ]
  },
  {
   "cell_type": "code",
   "execution_count": 258,
   "id": "8e20f705",
   "metadata": {},
   "outputs": [
    {
     "data": {
      "image/png": "[encoded data removed]",
      "text/plain": [
       "<Figure size 756x360 with 3 Axes>"
      ]
     },
     "metadata": {},
     "output_type": "display_data"
    }
   ],
   "source": [
    "g=sns.FacetGrid(data=startups, col=\"State\", height=5, aspect=0.7)\n",
    "g.map_dataframe(sns.barplot, palette=\"Accent\")\n",
    "g.set_xticklabels(rotation=45)\n",
    "plt.show()\n"
   ]
  },
  {
   "cell_type": "markdown",
   "id": "billion-bolivia",
   "metadata": {
    "papermill": {
     "duration": 0.067602,
     "end_time": "2021-05-19T13:22:28.859159",
     "exception": false,
     "start_time": "2021-05-19T13:22:28.791557",
     "status": "completed"
    },
    "tags": []
   },
   "source": [
    "**Insights:**\n",
    "1. Profits and Marketing Spend are higher in Florida than other states.\n",
    "2. R&D Spend and Administration are same for all of the states."
   ]
  },
  {
   "cell_type": "markdown",
   "id": "blocked-dealing",
   "metadata": {
    "papermill": {
     "duration": 0.070215,
     "end_time": "2021-05-19T13:22:30.045314",
     "exception": false,
     "start_time": "2021-05-19T13:22:29.975099",
     "status": "completed"
    },
    "tags": []
   },
   "source": [
    "#  3. Data Preparation"
   ]
  },
  {
   "cell_type": "code",
   "execution_count": 259,
   "id": "471aa5d8",
   "metadata": {},
   "outputs": [],
   "source": [
    "startups_prepared = startups.copy()"
   ]
  },
  {
   "cell_type": "markdown",
   "id": "f7b9a92d",
   "metadata": {},
   "source": [
    "## Checking for multicollinearity"
   ]
  },
  {
   "cell_type": "code",
   "execution_count": 260,
   "id": "6a723b21",
   "metadata": {},
   "outputs": [
    {
     "data": {
      "text/html": [
       "<div>\n",
       "<style scoped>\n",
       "    .dataframe tbody tr th:only-of-type {\n",
       "        vertical-align: middle;\n",
       "    }\n",
       "\n",
       "    .dataframe tbody tr th {\n",
       "        vertical-align: top;\n",
       "    }\n",
       "\n",
       "    .dataframe thead th {\n",
       "        text-align: right;\n",
       "    }\n",
       "</style>\n",
       "<table border=\"1\" class=\"dataframe\">\n",
       "  <thead>\n",
       "    <tr style=\"text-align: right;\">\n",
       "      <th></th>\n",
       "      <th>Features</th>\n",
       "      <th>VIF</th>\n",
       "    </tr>\n",
       "  </thead>\n",
       "  <tbody>\n",
       "    <tr>\n",
       "      <th>0</th>\n",
       "      <td>R&amp;D Spend</td>\n",
       "      <td>8.60</td>\n",
       "    </tr>\n",
       "    <tr>\n",
       "      <th>2</th>\n",
       "      <td>Marketing Spend</td>\n",
       "      <td>7.59</td>\n",
       "    </tr>\n",
       "    <tr>\n",
       "      <th>1</th>\n",
       "      <td>Administration</td>\n",
       "      <td>4.22</td>\n",
       "    </tr>\n",
       "  </tbody>\n",
       "</table>\n",
       "</div>"
      ],
      "text/plain": [
       "          Features  VIF\n",
       "0        R&D Spend 8.60\n",
       "2  Marketing Spend 7.59\n",
       "1   Administration 4.22"
      ]
     },
     "execution_count": 260,
     "metadata": {},
     "output_type": "execute_result"
    }
   ],
   "source": [
    "numerical = startups_prepared.drop(columns=[\"State\", \"Profit\"])\n",
    "vif = pd.DataFrame()\n",
    "vif[\"Features\"] = numerical.columns\n",
    "vif[\"VIF\"] = [variance_inflation_factor(numerical.values, i) for i in range(numerical.shape[1])]\n",
    "vif[\"VIF\"] = round(vif[\"VIF\"], 2)\n",
    "vif = vif.sort_values(by = \"VIF\", ascending = False)\n",
    "vif"
   ]
  },
  {
   "cell_type": "markdown",
   "id": "1630b0dc",
   "metadata": {},
   "source": [
    "**Insights:**\n",
    "1. VIF scores are higher for R&D and Marketing Spend.\n",
    "2. Since Administration is not so correlated with Profit as other variables, we will consider dropping this variable, which will drive VIF factor down.\n"
   ]
  },
  {
   "cell_type": "markdown",
   "id": "3539ec62",
   "metadata": {
    "execution": {
     "iopub.execute_input": "2021-05-19T13:22:30.191571Z",
     "iopub.status.busy": "2021-05-19T13:22:30.190765Z",
     "iopub.status.idle": "2021-05-19T13:22:30.194845Z",
     "shell.execute_reply": "2021-05-19T13:22:30.194293Z"
    },
    "papermill": {
     "duration": 0.079966,
     "end_time": "2021-05-19T13:22:30.194994",
     "exception": false,
     "start_time": "2021-05-19T13:22:30.115028",
     "status": "completed"
    },
    "tags": []
   },
   "source": [
    "## Creating dummy variables"
   ]
  },
  {
   "cell_type": "code",
   "execution_count": 261,
   "id": "greater-medium",
   "metadata": {
    "execution": {
     "iopub.execute_input": "2021-05-19T13:22:30.343994Z",
     "iopub.status.busy": "2021-05-19T13:22:30.342315Z",
     "iopub.status.idle": "2021-05-19T13:22:30.346858Z",
     "shell.execute_reply": "2021-05-19T13:22:30.346202Z"
    },
    "papermill": {
     "duration": 0.082338,
     "end_time": "2021-05-19T13:22:30.346998",
     "exception": false,
     "start_time": "2021-05-19T13:22:30.264660",
     "status": "completed"
    },
    "tags": []
   },
   "outputs": [],
   "source": [
    "startups_prepared = pd.get_dummies(startups_prepared, drop_first=True)\n",
    "startups_prepared.rename(columns={\"R&D Spend\":\"R&D\", \"Marketing Spend\":\"Marketing\", \n",
    "                         \"State_Florida\":\"Florida\", \"State_New York\":\"New York\"}, inplace=True)"
   ]
  },
  {
   "cell_type": "code",
   "execution_count": 262,
   "id": "consolidated-diana",
   "metadata": {
    "execution": {
     "iopub.execute_input": "2021-05-19T13:22:30.493899Z",
     "iopub.status.busy": "2021-05-19T13:22:30.493216Z",
     "iopub.status.idle": "2021-05-19T13:22:30.501597Z",
     "shell.execute_reply": "2021-05-19T13:22:30.502052Z"
    },
    "papermill": {
     "duration": 0.086592,
     "end_time": "2021-05-19T13:22:30.502261",
     "exception": false,
     "start_time": "2021-05-19T13:22:30.415669",
     "status": "completed"
    },
    "tags": []
   },
   "outputs": [
    {
     "data": {
      "text/html": [
       "<div>\n",
       "<style scoped>\n",
       "    .dataframe tbody tr th:only-of-type {\n",
       "        vertical-align: middle;\n",
       "    }\n",
       "\n",
       "    .dataframe tbody tr th {\n",
       "        vertical-align: top;\n",
       "    }\n",
       "\n",
       "    .dataframe thead th {\n",
       "        text-align: right;\n",
       "    }\n",
       "</style>\n",
       "<table border=\"1\" class=\"dataframe\">\n",
       "  <thead>\n",
       "    <tr style=\"text-align: right;\">\n",
       "      <th></th>\n",
       "      <th>R&amp;D</th>\n",
       "      <th>Administration</th>\n",
       "      <th>Marketing</th>\n",
       "      <th>Profit</th>\n",
       "      <th>Florida</th>\n",
       "      <th>New York</th>\n",
       "    </tr>\n",
       "  </thead>\n",
       "  <tbody>\n",
       "    <tr>\n",
       "      <th>0</th>\n",
       "      <td>165,349.20</td>\n",
       "      <td>136,897.80</td>\n",
       "      <td>471,784.10</td>\n",
       "      <td>192,261.83</td>\n",
       "      <td>0</td>\n",
       "      <td>1</td>\n",
       "    </tr>\n",
       "    <tr>\n",
       "      <th>1</th>\n",
       "      <td>162,597.70</td>\n",
       "      <td>151,377.59</td>\n",
       "      <td>443,898.53</td>\n",
       "      <td>191,792.06</td>\n",
       "      <td>0</td>\n",
       "      <td>0</td>\n",
       "    </tr>\n",
       "    <tr>\n",
       "      <th>2</th>\n",
       "      <td>153,441.51</td>\n",
       "      <td>101,145.55</td>\n",
       "      <td>407,934.54</td>\n",
       "      <td>191,050.39</td>\n",
       "      <td>1</td>\n",
       "      <td>0</td>\n",
       "    </tr>\n",
       "    <tr>\n",
       "      <th>3</th>\n",
       "      <td>144,372.41</td>\n",
       "      <td>118,671.85</td>\n",
       "      <td>383,199.62</td>\n",
       "      <td>182,901.99</td>\n",
       "      <td>0</td>\n",
       "      <td>1</td>\n",
       "    </tr>\n",
       "    <tr>\n",
       "      <th>4</th>\n",
       "      <td>142,107.34</td>\n",
       "      <td>91,391.77</td>\n",
       "      <td>366,168.42</td>\n",
       "      <td>166,187.94</td>\n",
       "      <td>1</td>\n",
       "      <td>0</td>\n",
       "    </tr>\n",
       "  </tbody>\n",
       "</table>\n",
       "</div>"
      ],
      "text/plain": [
       "         R&D  Administration  Marketing     Profit  Florida  New York\n",
       "0 165,349.20      136,897.80 471,784.10 192,261.83        0         1\n",
       "1 162,597.70      151,377.59 443,898.53 191,792.06        0         0\n",
       "2 153,441.51      101,145.55 407,934.54 191,050.39        1         0\n",
       "3 144,372.41      118,671.85 383,199.62 182,901.99        0         1\n",
       "4 142,107.34       91,391.77 366,168.42 166,187.94        1         0"
      ]
     },
     "execution_count": 262,
     "metadata": {},
     "output_type": "execute_result"
    }
   ],
   "source": [
    "startups_prepared.head()"
   ]
  },
  {
   "cell_type": "markdown",
   "id": "05815a97",
   "metadata": {},
   "source": [
    "## Defining input and target variables"
   ]
  },
  {
   "cell_type": "code",
   "execution_count": 263,
   "id": "8bdfaced",
   "metadata": {},
   "outputs": [],
   "source": [
    "X = startups_prepared.drop(columns=\"Profit\")\n",
    "y = startups_prepared.Profit"
   ]
  },
  {
   "cell_type": "markdown",
   "id": "e8eab972",
   "metadata": {},
   "source": [
    "## Feature selection"
   ]
  },
  {
   "cell_type": "code",
   "execution_count": 264,
   "id": "d98115c2",
   "metadata": {},
   "outputs": [
    {
     "data": {
      "text/html": [
       "<div>\n",
       "<style scoped>\n",
       "    .dataframe tbody tr th:only-of-type {\n",
       "        vertical-align: middle;\n",
       "    }\n",
       "\n",
       "    .dataframe tbody tr th {\n",
       "        vertical-align: top;\n",
       "    }\n",
       "\n",
       "    .dataframe thead tr th {\n",
       "        text-align: left;\n",
       "    }\n",
       "</style>\n",
       "<table border=\"1\" class=\"dataframe\">\n",
       "  <thead>\n",
       "    <tr>\n",
       "      <th></th>\n",
       "      <th>F_statistic</th>\n",
       "      <th>p_value</th>\n",
       "    </tr>\n",
       "  </thead>\n",
       "  <tbody>\n",
       "    <tr>\n",
       "      <th>R&amp;D</th>\n",
       "      <td>1,054.72</td>\n",
       "      <td>0.00</td>\n",
       "    </tr>\n",
       "    <tr>\n",
       "      <th>Administration</th>\n",
       "      <td>2.08</td>\n",
       "      <td>0.16</td>\n",
       "    </tr>\n",
       "    <tr>\n",
       "      <th>Marketing</th>\n",
       "      <td>56.66</td>\n",
       "      <td>0.00</td>\n",
       "    </tr>\n",
       "  </tbody>\n",
       "</table>\n",
       "</div>"
      ],
      "text/plain": [
       "               F_statistic p_value\n",
       "R&D               1,054.72    0.00\n",
       "Administration        2.08    0.16\n",
       "Marketing            56.66    0.00"
      ]
     },
     "execution_count": 264,
     "metadata": {},
     "output_type": "execute_result"
    }
   ],
   "source": [
    "data = f_regression(X[[\"R&D\", \"Administration\", \"Marketing\"]], y)\n",
    "f_df = pd.DataFrame(data, index=[[\"F_statistic\", \"p_value\"]], columns=X[[\"R&D\", \"Administration\", \"Marketing\"]].columns).T\n",
    "f_df"
   ]
  },
  {
   "cell_type": "markdown",
   "id": "d2eced7d",
   "metadata": {},
   "source": [
    "**Insights:**\n",
    "1. R&D and Marketing has nearly 0 p-value which implies statistical significance.\n",
    "2. On the other hand Administration seems to have no effect in predicting the Profit, as we previously seen from correlation as well.\n",
    "3. We are going to drop Administration column as it has no statistical significance in our model."
   ]
  },
  {
   "cell_type": "code",
   "execution_count": 265,
   "id": "b69844e1",
   "metadata": {},
   "outputs": [],
   "source": [
    "X = X.drop(columns=\"Administration\")"
   ]
  },
  {
   "cell_type": "markdown",
   "id": "infinite-newfoundland",
   "metadata": {
    "papermill": {
     "duration": 0.07529,
     "end_time": "2021-05-19T13:22:41.705851",
     "exception": false,
     "start_time": "2021-05-19T13:22:41.630561",
     "status": "completed"
    },
    "tags": []
   },
   "source": [
    "## Splitting the Data into Training and Testing Sets"
   ]
  },
  {
   "cell_type": "code",
   "execution_count": 291,
   "id": "grand-pulse",
   "metadata": {
    "execution": {
     "iopub.execute_input": "2021-05-19T13:22:41.860011Z",
     "iopub.status.busy": "2021-05-19T13:22:41.859345Z",
     "iopub.status.idle": "2021-05-19T13:22:42.087127Z",
     "shell.execute_reply": "2021-05-19T13:22:42.086576Z"
    },
    "papermill": {
     "duration": 0.305373,
     "end_time": "2021-05-19T13:22:42.087262",
     "exception": false,
     "start_time": "2021-05-19T13:22:41.781889",
     "status": "completed"
    },
    "tags": []
   },
   "outputs": [],
   "source": [
    "X_train, X_test, y_train, y_test = train_test_split(X, y, test_size=0.33, random_state=6)"
   ]
  },
  {
   "cell_type": "code",
   "execution_count": 292,
   "id": "c1639a66",
   "metadata": {},
   "outputs": [
    {
     "name": "stdout",
     "output_type": "stream",
     "text": [
      "Train Florida: 0.3125\n",
      "Test Florida: 0.35294117647058826\n",
      "Train Marketing: 235405.88625\n",
      "Test Marketing: 174887.8511764706\n"
     ]
    }
   ],
   "source": [
    "#Checking if the split has approximately equal distributions of values\n",
    "print(f\"Train Florida: {X_train['Florida'].mean()}\")\n",
    "print(f\"Test Florida: {X_test['Florida'].mean()}\")\n",
    "print(f\"Train Marketing: {X_train['Marketing'].mean()}\")\n",
    "print(f\"Test Marketing: {X_test['Marketing'].mean()}\")"
   ]
  },
  {
   "cell_type": "markdown",
   "id": "thorough-military",
   "metadata": {
    "papermill": {
     "duration": 0.075574,
     "end_time": "2021-05-19T13:22:42.563662",
     "exception": false,
     "start_time": "2021-05-19T13:22:42.488088",
     "status": "completed"
    },
    "tags": []
   },
   "source": [
    "## Scaling the Features"
   ]
  },
  {
   "cell_type": "code",
   "execution_count": 293,
   "id": "peripheral-efficiency",
   "metadata": {
    "execution": {
     "iopub.execute_input": "2021-05-19T13:22:43.552538Z",
     "iopub.status.busy": "2021-05-19T13:22:43.544217Z",
     "iopub.status.idle": "2021-05-19T13:22:43.556921Z",
     "shell.execute_reply": "2021-05-19T13:22:43.556351Z"
    },
    "papermill": {
     "duration": 0.10358,
     "end_time": "2021-05-19T13:22:43.557058",
     "exception": false,
     "start_time": "2021-05-19T13:22:43.453478",
     "status": "completed"
    },
    "tags": []
   },
   "outputs": [],
   "source": [
    "#scaling inputs\n",
    "sc_x = StandardScaler()\n",
    "X_train = sc_x.fit_transform(X_train)\n",
    "X_test = sc_x.transform(X_test)\n",
    "#scaling target variable\n",
    "sc_y = StandardScaler()\n",
    "y_train = sc_y.fit_transform(y_train.values.reshape(-1, 1))\n",
    "y_test = sc_y.transform(y_test.values.reshape(-1, 1))"
   ]
  },
  {
   "cell_type": "code",
   "execution_count": 303,
   "id": "ec24c97a",
   "metadata": {},
   "outputs": [],
   "source": [
    "y_train = y_train.reshape(32)\n",
    "y_test = y_test.reshape(17)"
   ]
  },
  {
   "cell_type": "markdown",
   "id": "weekly-winner",
   "metadata": {
    "papermill": {
     "duration": 0.080024,
     "end_time": "2021-05-19T13:22:44.049808",
     "exception": false,
     "start_time": "2021-05-19T13:22:43.969784",
     "status": "completed"
    },
    "tags": []
   },
   "source": [
    "# 4. Model Selection and Evaluation"
   ]
  },
  {
   "cell_type": "markdown",
   "id": "4cde9ad1",
   "metadata": {},
   "source": [
    "## Multiple Linear regression"
   ]
  },
  {
   "cell_type": "code",
   "execution_count": 305,
   "id": "6013c1c5",
   "metadata": {},
   "outputs": [
    {
     "data": {
      "text/plain": [
       "[0.9484473292910413, 0.874296598182787, 0.6029774988290412]"
      ]
     },
     "execution_count": 305,
     "metadata": {},
     "output_type": "execute_result"
    }
   ],
   "source": [
    "Rsqr_test = []\n",
    "order = range(1,4)\n",
    "for n in order:\n",
    "    pr = PolynomialFeatures(degree=n)\n",
    "    X_train_poly = pr.fit_transform(X_train)\n",
    "    X_test_poly = pr.fit_transform(X_test)\n",
    "    lr = LinearRegression()\n",
    "    lr.fit(X_train_poly, y_train)\n",
    "    Rsqr_test.append(lr.score(X_test_poly, y_test))\n",
    "Rsqr_test"
   ]
  },
  {
   "cell_type": "code",
   "execution_count": 306,
   "id": "6ed37bb8",
   "metadata": {},
   "outputs": [
    {
     "data": {
      "image/png": "[encoded data removed]",
      "text/plain": [
       "<Figure size 432x288 with 1 Axes>"
      ]
     },
     "metadata": {},
     "output_type": "display_data"
    }
   ],
   "source": [
    "plt.plot(Rsqr_test)\n",
    "plt.show()"
   ]
  },
  {
   "cell_type": "markdown",
   "id": "91867c90",
   "metadata": {},
   "source": [
    "## Support Vector regression"
   ]
  },
  {
   "cell_type": "code",
   "execution_count": 307,
   "id": "73acfc15",
   "metadata": {},
   "outputs": [
    {
     "data": {
      "text/plain": [
       "0.8110028798022219"
      ]
     },
     "execution_count": 307,
     "metadata": {},
     "output_type": "execute_result"
    }
   ],
   "source": [
    "svr = SVR()\n",
    "svr.fit(X_train, y_train)\n",
    "svr.score(X_test, y_test)"
   ]
  },
  {
   "cell_type": "markdown",
   "id": "9fff3db0",
   "metadata": {},
   "source": [
    "## Decision Tree regression"
   ]
  },
  {
   "cell_type": "code",
   "execution_count": 308,
   "id": "4baeb0d8",
   "metadata": {},
   "outputs": [
    {
     "data": {
      "text/plain": [
       "0.8900387438500195"
      ]
     },
     "execution_count": 308,
     "metadata": {},
     "output_type": "execute_result"
    }
   ],
   "source": [
    "dt = DecisionTreeRegressor()\n",
    "dt.fit(X_train, y_train)\n",
    "dt.score(X_test, y_test)"
   ]
  },
  {
   "cell_type": "markdown",
   "id": "2abc6218",
   "metadata": {},
   "source": [
    "## Random Forest regression"
   ]
  },
  {
   "cell_type": "code",
   "execution_count": 310,
   "id": "f34981ad",
   "metadata": {},
   "outputs": [
    {
     "data": {
      "text/plain": [
       "0.9139366631065878"
      ]
     },
     "execution_count": 310,
     "metadata": {},
     "output_type": "execute_result"
    }
   ],
   "source": [
    "rf = RandomForestRegressor()\n",
    "rf.fit(X_train, y_train)\n",
    "rf.score(X_test, y_test)"
   ]
  },
  {
   "cell_type": "markdown",
   "id": "128cbf89",
   "metadata": {},
   "source": [
    "The best performing model is Multiple Linear Regression."
   ]
  },
  {
   "cell_type": "code",
   "execution_count": 311,
   "id": "7bdcb539",
   "metadata": {},
   "outputs": [],
   "source": [
    "lr = LinearRegression()\n",
    "lr.fit(X_train, y_train)\n",
    "r2_score = lr.score(X_test, y_test)"
   ]
  },
  {
   "cell_type": "code",
   "execution_count": 312,
   "id": "2e472fdd",
   "metadata": {},
   "outputs": [
    {
     "data": {
      "text/plain": [
       "0.9312631057213882"
      ]
     },
     "execution_count": 312,
     "metadata": {},
     "output_type": "execute_result"
    }
   ],
   "source": [
    "# Adjusted R-square of the model\n",
    "n = X_test.shape[0]\n",
    "p = X_test.shape[1]\n",
    "\n",
    "adjusted_r2 = 1-(1-r2_score)*(n-1)/(n-p-1)\n",
    "adjusted_r2"
   ]
  },
  {
   "cell_type": "markdown",
   "id": "5aa69d72",
   "metadata": {},
   "source": [
    "# 5. Residuals analysis"
   ]
  },
  {
   "cell_type": "code",
   "execution_count": 313,
   "id": "15586a34",
   "metadata": {},
   "outputs": [],
   "source": [
    "y_test_hat = lr.predict(X_test)"
   ]
  },
  {
   "cell_type": "code",
   "execution_count": 314,
   "id": "43452dea",
   "metadata": {},
   "outputs": [
    {
     "data": {
      "image/png": "[encoded data removed]",
      "text/plain": [
       "<Figure size 432x288 with 1 Axes>"
      ]
     },
     "metadata": {},
     "output_type": "display_data"
    }
   ],
   "source": [
    "plt.scatter(x=y_test, y=y_test_hat, alpha=0.8)\n",
    "plt.plot(y_test, y_test, color='darkgreen')\n",
    "plt.show()"
   ]
  },
  {
   "cell_type": "code",
   "execution_count": 316,
   "id": "1634250d",
   "metadata": {},
   "outputs": [],
   "source": [
    "residuals = y_test - y_test_hat"
   ]
  },
  {
   "cell_type": "markdown",
   "id": "c66ce787",
   "metadata": {},
   "source": [
    "The errors should not follow any pattern and should be equally distributed."
   ]
  },
  {
   "cell_type": "code",
   "execution_count": 317,
   "id": "1d837049",
   "metadata": {},
   "outputs": [
    {
     "data": {
      "image/png": "[encoded data removed]",
      "text/plain": [
       "<Figure size 432x288 with 1 Axes>"
      ]
     },
     "metadata": {},
     "output_type": "display_data"
    }
   ],
   "source": [
    "plt.scatter(y=residuals, x=y_test_hat, alpha=0.8)\n",
    "plt.show()"
   ]
  },
  {
   "cell_type": "code",
   "execution_count": 318,
   "id": "7fcf6264",
   "metadata": {},
   "outputs": [
    {
     "data": {
      "text/plain": [
       "array([ 0.96049786,  0.0109726 , -0.01004952, -0.06425628])"
      ]
     },
     "execution_count": 318,
     "metadata": {},
     "output_type": "execute_result"
    }
   ],
   "source": [
    "lr.coef_"
   ]
  },
  {
   "cell_type": "code",
   "execution_count": 319,
   "id": "e26284ee",
   "metadata": {},
   "outputs": [
    {
     "data": {
      "text/plain": [
       "-3.7723824852866896e-16"
      ]
     },
     "execution_count": 319,
     "metadata": {},
     "output_type": "execute_result"
    }
   ],
   "source": [
    "lr.intercept_"
   ]
  },
  {
   "cell_type": "markdown",
   "id": "c880ce79",
   "metadata": {},
   "source": [
    "## Multiple linear regression equation:\n",
    "\n",
    "## $$ PROFIT = -1.63 + 0.96 * R&D Spend + 0.01 * Marketing Spend + (-0.01) * Florida + (-0.06) * NewYork $$"
   ]
  },
  {
   "cell_type": "markdown",
   "id": "7ebf9f8e",
   "metadata": {},
   "source": [
    "Note: Since we scaled the data for modeling, if we want to predict profits, we have to perform inverse_transform() on the predicted values.\n",
    "\n",
    "<p style=\"text-align:center\">© Miroslava Ježíková 2022</p>"
   ]
  }
 ],
 "metadata": {
  "kernelspec": {
   "display_name": "Python 3 (ipykernel)",
   "language": "python",
   "name": "python3"
  },
  "language_info": {
   "codemirror_mode": {
    "name": "ipython",
    "version": 3
   },
   "file_extension": ".py",
   "mimetype": "text/x-python",
   "name": "python",
   "nbconvert_exporter": "python",
   "pygments_lexer": "ipython3",
   "version": "3.9.7"
  },
  "papermill": {
   "default_parameters": {},
   "duration": 53.043594,
   "end_time": "2021-05-19T13:22:59.290947",
   "environment_variables": {},
   "exception": null,
   "input_path": "__notebook__.ipynb",
   "output_path": "__notebook__.ipynb",
   "parameters": {},
   "start_time": "2021-05-19T13:22:06.247353",
   "version": "2.3.3"
  }
 },
 "nbformat": 4,
 "nbformat_minor": 5
}
